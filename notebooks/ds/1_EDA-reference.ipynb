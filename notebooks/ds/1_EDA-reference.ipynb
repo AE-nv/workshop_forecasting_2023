{
 "cells": [
  {
   "cell_type": "markdown",
   "id": "e58be1df-50c7-4068-8fd9-7670f9ea72b0",
   "metadata": {},
   "source": [
    "![](../../docs/ae_logo.png \"Adapt & Enable\")\n",
    "# AE workshop 2023 - Data science\n",
    "\n",
    "## Part 1 - Exploratory Data Analysis (EDA)"
   ]
  },
  {
   "cell_type": "markdown",
   "id": "71b9e858-8579-46e8-8336-51510732cd36",
   "metadata": {},
   "source": [
    "In this notebook, we'll talk about time series using a contemporary issue as a use case: global warming. Let's kick off by importing some packages we'll need, down the line."
   ]
  },
  {
   "cell_type": "code",
   "execution_count": 1,
   "id": "cd1e4905",
   "metadata": {
    "pycharm": {
     "is_executing": true
    },
    "tags": []
   },
   "outputs": [],
   "source": [
    "import os\n",
    "import datetime\n",
    "import numpy as np\n",
    "import pandas as pd\n",
    "import plotly.express as px\n",
    "import matplotlib.pyplot as plt\n",
    "from plotly.subplots import make_subplots\n",
    "import plotly.graph_objects as go\n",
    "from statsmodels.tsa.stattools import acf\n",
    "from statsmodels.graphics.tsaplots import plot_acf\n",
    "import statsmodels.api as sm\n",
    "\n",
    "%matplotlib inline\n",
    "import plotly.offline as py\n",
    "import plotly.io as pio\n",
    "\n",
    "pio.templates.default = \"plotly_white\"\n",
    "pio.renderers.default = \"iframe\"\n",
    "\n",
    "ae_orange = \"#FD9129\"\n",
    "ae_orange2 = \"#FFD580\"\n",
    "ae_gold = \"#FFD700\""
   ]
  },
  {
   "cell_type": "markdown",
   "id": "2f29a379",
   "metadata": {},
   "source": [
    "### Read data"
   ]
  },
  {
   "cell_type": "markdown",
   "id": "ee2eae3f",
   "metadata": {},
   "source": [
    "First of all, we have to load the on-disk data to the working memory. A great library to handle tabular data is **pandas**. The data was downloaded from https://www.kaggle.com/datasets/berkeleyearth/climate-change-earth-surface-temperature-data, feel free to explore!"
   ]
  },
  {
   "cell_type": "code",
   "execution_count": 2,
   "id": "6174f665",
   "metadata": {
    "tags": []
   },
   "outputs": [],
   "source": [
    "df = pd.read_csv(\"../../data/GlobalTemperatures.csv\")"
   ]
  },
  {
   "cell_type": "markdown",
   "id": "f6aa1c83",
   "metadata": {},
   "source": [
    "Let's check how the first rows look like:"
   ]
  },
  {
   "cell_type": "code",
   "execution_count": 3,
   "id": "915d9911",
   "metadata": {
    "tags": []
   },
   "outputs": [
    {
     "data": {
      "text/html": [
       "<div>\n",
       "<style scoped>\n",
       "    .dataframe tbody tr th:only-of-type {\n",
       "        vertical-align: middle;\n",
       "    }\n",
       "\n",
       "    .dataframe tbody tr th {\n",
       "        vertical-align: top;\n",
       "    }\n",
       "\n",
       "    .dataframe thead th {\n",
       "        text-align: right;\n",
       "    }\n",
       "</style>\n",
       "<table border=\"1\" class=\"dataframe\">\n",
       "  <thead>\n",
       "    <tr style=\"text-align: right;\">\n",
       "      <th></th>\n",
       "      <th>dt</th>\n",
       "      <th>LandAverageTemperature</th>\n",
       "      <th>LandAverageTemperatureUncertainty</th>\n",
       "      <th>LandMaxTemperature</th>\n",
       "      <th>LandMaxTemperatureUncertainty</th>\n",
       "      <th>LandMinTemperature</th>\n",
       "      <th>LandMinTemperatureUncertainty</th>\n",
       "      <th>LandAndOceanAverageTemperature</th>\n",
       "      <th>LandAndOceanAverageTemperatureUncertainty</th>\n",
       "    </tr>\n",
       "  </thead>\n",
       "  <tbody>\n",
       "    <tr>\n",
       "      <th>0</th>\n",
       "      <td>1750-01-01</td>\n",
       "      <td>3.034</td>\n",
       "      <td>3.574</td>\n",
       "      <td>NaN</td>\n",
       "      <td>NaN</td>\n",
       "      <td>NaN</td>\n",
       "      <td>NaN</td>\n",
       "      <td>NaN</td>\n",
       "      <td>NaN</td>\n",
       "    </tr>\n",
       "    <tr>\n",
       "      <th>1</th>\n",
       "      <td>1750-02-01</td>\n",
       "      <td>3.083</td>\n",
       "      <td>3.702</td>\n",
       "      <td>NaN</td>\n",
       "      <td>NaN</td>\n",
       "      <td>NaN</td>\n",
       "      <td>NaN</td>\n",
       "      <td>NaN</td>\n",
       "      <td>NaN</td>\n",
       "    </tr>\n",
       "    <tr>\n",
       "      <th>2</th>\n",
       "      <td>1750-03-01</td>\n",
       "      <td>5.626</td>\n",
       "      <td>3.076</td>\n",
       "      <td>NaN</td>\n",
       "      <td>NaN</td>\n",
       "      <td>NaN</td>\n",
       "      <td>NaN</td>\n",
       "      <td>NaN</td>\n",
       "      <td>NaN</td>\n",
       "    </tr>\n",
       "  </tbody>\n",
       "</table>\n",
       "</div>"
      ],
      "text/plain": [
       "           dt  LandAverageTemperature  LandAverageTemperatureUncertainty  \\\n",
       "0  1750-01-01                   3.034                              3.574   \n",
       "1  1750-02-01                   3.083                              3.702   \n",
       "2  1750-03-01                   5.626                              3.076   \n",
       "\n",
       "   LandMaxTemperature  LandMaxTemperatureUncertainty  LandMinTemperature  \\\n",
       "0                 NaN                            NaN                 NaN   \n",
       "1                 NaN                            NaN                 NaN   \n",
       "2                 NaN                            NaN                 NaN   \n",
       "\n",
       "   LandMinTemperatureUncertainty  LandAndOceanAverageTemperature  \\\n",
       "0                            NaN                             NaN   \n",
       "1                            NaN                             NaN   \n",
       "2                            NaN                             NaN   \n",
       "\n",
       "   LandAndOceanAverageTemperatureUncertainty  \n",
       "0                                        NaN  \n",
       "1                                        NaN  \n",
       "2                                        NaN  "
      ]
     },
     "execution_count": 3,
     "metadata": {},
     "output_type": "execute_result"
    }
   ],
   "source": [
    "df.head(3)"
   ]
  },
  {
   "cell_type": "markdown",
   "id": "23d19bfc",
   "metadata": {},
   "source": [
    "We will only use the first three columns: the date, an average temperature and an associated uncertainty measure."
   ]
  },
  {
   "cell_type": "code",
   "execution_count": 4,
   "id": "340c5864",
   "metadata": {
    "tags": []
   },
   "outputs": [
    {
     "data": {
      "text/plain": [
       "date           datetime64[ns]\n",
       "temperature           float64\n",
       "uncertainty           float64\n",
       "dtype: object"
      ]
     },
     "execution_count": 4,
     "metadata": {},
     "output_type": "execute_result"
    }
   ],
   "source": [
    "df = df[[\"dt\", \"LandAverageTemperature\", \"LandAverageTemperatureUncertainty\"]]\n",
    "\n",
    "# change the datatype of date\n",
    "df[\"dt\"] = pd.to_datetime(df[\"dt\"])\n",
    "\n",
    "# remove NaN\n",
    "df = df[~df[\"LandAverageTemperature\"].isnull()]\n",
    "\n",
    "# use shorter names because we're lazy (careful not to get confused by your own simplifications though)\n",
    "df = df.rename(\n",
    "    columns={\n",
    "        \"dt\": \"date\",\n",
    "        \"LandAverageTemperature\": \"temperature\",\n",
    "        \"LandAverageTemperatureUncertainty\": \"uncertainty\",\n",
    "    }\n",
    ")\n",
    "\n",
    "df.dtypes"
   ]
  },
  {
   "cell_type": "markdown",
   "id": "2b08554d",
   "metadata": {},
   "source": [
    "### EDA"
   ]
  },
  {
   "cell_type": "markdown",
   "id": "ab8fa898",
   "metadata": {},
   "source": [
    "The first thing to do in *any* analysis is to explore the data so we can see what we're working with. This is the **E**xplorational **D**ata **A**nalysis part.\n",
    "\n",
    "Let's take a look at our first column, **temperature**, which we'll attempt to (spoiler alert) predict in the next notebook."
   ]
  },
  {
   "cell_type": "code",
   "execution_count": 5,
   "id": "b756fe7f-eb9d-478f-9c2c-51de5d2200b8",
   "metadata": {
    "tags": []
   },
   "outputs": [],
   "source": [
    "# Helper function\n",
    "def quick_check(values: pd.Series):\n",
    "    fig, ax = plt.subplots(1, 2, figsize=(8, 3))\n",
    "    ax[0].hist(values, bins=50, color=ae_orange)\n",
    "    ax[0].set_title(\"histogram\")\n",
    "    ax[1].boxplot(values)\n",
    "    ax[1].set_title(\"boxplot\")\n",
    "    plt.tight_layout()\n",
    "    plt.show()\n",
    "    print(values.describe())"
   ]
  },
  {
   "cell_type": "code",
   "execution_count": 6,
   "id": "3db8f74d",
   "metadata": {
    "tags": []
   },
   "outputs": [
    {
     "data": {
      "image/png": "[encoded data removed]",
      "text/plain": [
       "<Figure size 800x300 with 2 Axes>"
      ]
     },
     "metadata": {},
     "output_type": "display_data"
    },
    {
     "name": "stdout",
     "output_type": "stream",
     "text": [
      "count    3180.000000\n",
      "mean        8.374731\n",
      "std         4.381310\n",
      "min        -2.080000\n",
      "25%         4.312000\n",
      "50%         8.610500\n",
      "75%        12.548250\n",
      "max        19.021000\n",
      "Name: temperature, dtype: float64\n"
     ]
    }
   ],
   "source": [
    "quick_check(df.temperature)"
   ]
  },
  {
   "cell_type": "markdown",
   "id": "cc89a6e0",
   "metadata": {},
   "source": [
    "We know that this column is measured in celsius. We see no real outliers, and temperatures generally range from -2 to 19."
   ]
  },
  {
   "cell_type": "code",
   "execution_count": 7,
   "id": "b5ab5a2d",
   "metadata": {
    "tags": []
   },
   "outputs": [
    {
     "data": {
      "image/png": "[encoded data removed]",
      "text/plain": [
       "<Figure size 800x300 with 2 Axes>"
      ]
     },
     "metadata": {},
     "output_type": "display_data"
    },
    {
     "name": "stdout",
     "output_type": "stream",
     "text": [
      "count    3180.000000\n",
      "mean        0.938468\n",
      "std         1.096440\n",
      "min         0.034000\n",
      "25%         0.186750\n",
      "50%         0.392000\n",
      "75%         1.419250\n",
      "max         7.880000\n",
      "Name: uncertainty, dtype: float64\n"
     ]
    }
   ],
   "source": [
    "quick_check(df.uncertainty)"
   ]
  },
  {
   "cell_type": "markdown",
   "id": "fac49429",
   "metadata": {},
   "source": [
    "The given uncertainty measure is the 95% confidence interval around the average and is generally quite low. However, it can take soms high values. We will see later when this tends to happen."
   ]
  },
  {
   "cell_type": "code",
   "execution_count": 8,
   "id": "b155b58b",
   "metadata": {
    "tags": []
   },
   "outputs": [
    {
     "data": {
      "text/plain": [
       "min      1750-01-01 00:00:00\n",
       "max      2015-12-01 00:00:00\n",
       "count                   3180\n",
       "Name: date, dtype: object"
      ]
     },
     "execution_count": 8,
     "metadata": {},
     "output_type": "execute_result"
    }
   ],
   "source": [
    "df.date.agg([\"min\", \"max\", \"count\"])"
   ]
  },
  {
   "cell_type": "markdown",
   "id": "4f64cbf8",
   "metadata": {},
   "source": [
    "Can we see an effect of the month on the temperature? The figure below suggests we can!"
   ]
  },
  {
   "cell_type": "code",
   "execution_count": 9,
   "id": "a87459f8",
   "metadata": {
    "tags": []
   },
   "outputs": [
    {
     "data": {
      "text/plain": [
       "Text(0.5, 1.0, '')"
      ]
     },
     "execution_count": 9,
     "metadata": {},
     "output_type": "execute_result"
    },
    {
     "data": {
      "image/png": "[encoded data removed]",
      "text/plain": [
       "<Figure size 1200x300 with 1 Axes>"
      ]
     },
     "metadata": {},
     "output_type": "display_data"
    }
   ],
   "source": [
    "df[\"month\"] = df.date.dt.month\n",
    "fig, ax = plt.subplots(figsize=(12, 3))\n",
    "df.boxplot(column=[\"temperature\"], by=[\"month\"], figsize=(10, 3), ax=ax)\n",
    "ax.set_title(None)"
   ]
  },
  {
   "cell_type": "markdown",
   "id": "a98dd0f7",
   "metadata": {},
   "source": [
    "Let's do the same for the year, let's see if we can visualize the effect of global warming."
   ]
  },
  {
   "cell_type": "code",
   "execution_count": 10,
   "id": "82e2fa3a",
   "metadata": {
    "tags": []
   },
   "outputs": [
    {
     "data": {
      "text/html": [
       "<iframe\n",
       "    scrolling=\"no\"\n",
       "    width=\"100%\"\n",
       "    height=\"545px\"\n",
       "    src=\"iframe_figures/figure_10.html\"\n",
       "    frameborder=\"0\"\n",
       "    allowfullscreen\n",
       "></iframe>\n"
      ]
     },
     "metadata": {},
     "output_type": "display_data"
    }
   ],
   "source": [
    "df[\"year\"] = df.date.dt.year\n",
    "mean_temp_world = []\n",
    "mean_temp_world_uncertainty = []\n",
    "\n",
    "# for year in sorted(df[\"year\"].unique()):\n",
    "for year in df[\"year\"]:\n",
    "    mean_temp_world.append(df[df[\"year\"] == year][\"temperature\"].mean())\n",
    "    mean_temp_world_uncertainty.append(df[df[\"year\"] == year][\"uncertainty\"].mean())\n",
    "\n",
    "    trace0 = go.Scatter(\n",
    "        x=df[\"year\"],\n",
    "        y=np.array(mean_temp_world) + np.array(mean_temp_world_uncertainty),\n",
    "        fill=None,\n",
    "        mode=\"lines\",\n",
    "        name=\"Uncertainty top\",\n",
    "        line=dict(\n",
    "            color=ae_orange2,\n",
    "        ),\n",
    "    )\n",
    "trace1 = go.Scatter(\n",
    "    x=df[\"year\"],\n",
    "    y=np.array(mean_temp_world) - np.array(mean_temp_world_uncertainty),\n",
    "    fill=\"tonexty\",\n",
    "    mode=\"lines\",\n",
    "    name=\"Uncertainty bot\",\n",
    "    line=dict(\n",
    "        color=ae_orange2,\n",
    "    ),\n",
    ")\n",
    "\n",
    "trace2 = go.Scatter(\n",
    "    x=df[\"year\"],\n",
    "    y=mean_temp_world,\n",
    "    name=\"Average Temperature\",\n",
    "    line=dict(\n",
    "        color=ae_orange,\n",
    "    ),\n",
    ")\n",
    "data = [trace0, trace1, trace2]\n",
    "\n",
    "layout = go.Layout(\n",
    "    xaxis=dict(title=\"year\"),\n",
    "    yaxis=dict(title=\"Average Temperature, °C\"),\n",
    "    title=\"Average land temperature in world\",\n",
    "    showlegend=False,\n",
    ")\n",
    "\n",
    "fig = go.Figure(data=data, layout=layout)\n",
    "py.iplot(fig)"
   ]
  },
  {
   "cell_type": "markdown",
   "id": "7bfc5afa",
   "metadata": {},
   "source": [
    "The plot above suggests that in fact, global warming is rising rapidly! Also, we can see that the 95% CI shrinks in more recent times. Could you guess why?"
   ]
  },
  {
   "cell_type": "code",
   "execution_count": 11,
   "id": "1d4292de",
   "metadata": {
    "tags": []
   },
   "outputs": [
    {
     "data": {
      "text/plain": [
       "[8.719363636363637,\n",
       " 7.9761428571428565,\n",
       " 5.7798333333333325,\n",
       " 8.388083333333334,\n",
       " 8.469333333333333]"
      ]
     },
     "execution_count": 11,
     "metadata": {},
     "output_type": "execute_result"
    }
   ],
   "source": [
    "# calculate average temperature per year\n",
    "mean_temp_world = [\n",
    "    df[df[\"year\"] == year][\"temperature\"].mean() for year in df.year.unique()\n",
    "]\n",
    "\n",
    "# show first 5 years\n",
    "mean_temp_world[:5]"
   ]
  },
  {
   "cell_type": "code",
   "execution_count": 12,
   "id": "1d4dd433",
   "metadata": {
    "scrolled": true,
    "tags": []
   },
   "outputs": [
    {
     "data": {
      "image/png": "[encoded data removed]",
      "text/plain": [
       "<Figure size 640x480 with 1 Axes>"
      ]
     },
     "metadata": {},
     "output_type": "display_data"
    }
   ],
   "source": [
    "plot_acf(mean_temp_world, lags=len(mean_temp_world) - 1);"
   ]
  },
  {
   "cell_type": "markdown",
   "id": "355ac49f",
   "metadata": {},
   "source": [
    "Above is a figure of the autocorrelation, between a reference value and another value. It shows the tendency for observations to be related to one another. The first value is 1, which makes sense because a value can fully explain itself. When time goes on, this autocorrelation drops which also makes sense: older data has less predictive power on more recent timepoints. The ACF function even drops below zero: this means that if a past temperature is above the average temperature, a newer temperature is more likely to be below average. You can read more about this here: http://www.pmean.com/09/NegativeAutocorrelation.html\n",
    "\n",
    "The cone (lightblue) shows a 95% confidence interval, with which you can say something with statistical significance."
   ]
  },
  {
   "cell_type": "code",
   "execution_count": 13,
   "id": "cc533ea9",
   "metadata": {
    "tags": []
   },
   "outputs": [
    {
     "data": {
      "text/html": [
       "<div>\n",
       "<style scoped>\n",
       "    .dataframe tbody tr th:only-of-type {\n",
       "        vertical-align: middle;\n",
       "    }\n",
       "\n",
       "    .dataframe tbody tr th {\n",
       "        vertical-align: top;\n",
       "    }\n",
       "\n",
       "    .dataframe thead th {\n",
       "        text-align: right;\n",
       "    }\n",
       "</style>\n",
       "<table border=\"1\" class=\"dataframe\">\n",
       "  <thead>\n",
       "    <tr style=\"text-align: right;\">\n",
       "      <th></th>\n",
       "      <th>t</th>\n",
       "      <th>t+1</th>\n",
       "      <th>t+2</th>\n",
       "      <th>t+3</th>\n",
       "    </tr>\n",
       "  </thead>\n",
       "  <tbody>\n",
       "    <tr>\n",
       "      <th>t</th>\n",
       "      <td>1.000000</td>\n",
       "      <td>0.714860</td>\n",
       "      <td>0.636561</td>\n",
       "      <td>0.641452</td>\n",
       "    </tr>\n",
       "    <tr>\n",
       "      <th>t+1</th>\n",
       "      <td>0.714860</td>\n",
       "      <td>1.000000</td>\n",
       "      <td>0.719767</td>\n",
       "      <td>0.643927</td>\n",
       "    </tr>\n",
       "    <tr>\n",
       "      <th>t+2</th>\n",
       "      <td>0.636561</td>\n",
       "      <td>0.719767</td>\n",
       "      <td>1.000000</td>\n",
       "      <td>0.725075</td>\n",
       "    </tr>\n",
       "    <tr>\n",
       "      <th>t+3</th>\n",
       "      <td>0.641452</td>\n",
       "      <td>0.643927</td>\n",
       "      <td>0.725075</td>\n",
       "      <td>1.000000</td>\n",
       "    </tr>\n",
       "  </tbody>\n",
       "</table>\n",
       "</div>"
      ],
      "text/plain": [
       "            t       t+1       t+2       t+3\n",
       "t    1.000000  0.714860  0.636561  0.641452\n",
       "t+1  0.714860  1.000000  0.719767  0.643927\n",
       "t+2  0.636561  0.719767  1.000000  0.725075\n",
       "t+3  0.641452  0.643927  0.725075  1.000000"
      ]
     },
     "execution_count": 13,
     "metadata": {},
     "output_type": "execute_result"
    }
   ],
   "source": [
    "ex = pd.concat(\n",
    "    [\n",
    "        pd.DataFrame(mean_temp_world).shift(3),\n",
    "        pd.DataFrame(mean_temp_world).shift(2),\n",
    "        pd.DataFrame(mean_temp_world).shift(1),\n",
    "        pd.DataFrame(mean_temp_world),\n",
    "    ],\n",
    "    axis=1,\n",
    ")\n",
    "# naming the columns\n",
    "ex.columns = [\"t\", \"t+1\", \"t+2\", \"t+3\"]\n",
    "\n",
    "# using corr() function to compute the correlation\n",
    "result = ex.corr()\n",
    "result"
   ]
  },
  {
   "cell_type": "markdown",
   "id": "7e0e8ec7",
   "metadata": {},
   "source": [
    "This principle is shown in detail for the first three lags. It can be seen that a previous timepoint has a correlation of 0.71 to a next timepoint. When the size of lag increases (t+2, t+3), this autocorrelation decreases. Thus, when creating (linear) models, **having information on the previous timepoint would be very important**. \n",
    "\n",
    "### Patterns\n",
    "\n",
    "Let's look at our time series through another lens. Depending on the type of data and the range of the values, certain types of patterns can appear. In particular, we can look for the following:\n",
    "\n",
    "* <span style=\"color:darkorange\">**Trend**</span> - this is a general, monotonic increase or decrease in our data.\n",
    "* <span style=\"color:darkorange\">**Seasonality**</span> - sometimes our values fluctuate in a predictable, calender-bound manner (e.g., with seasons, month, or day of the week).\n",
    "* <span style=\"color:darkorange\">**Cyclicality**</span> - when you notice a repeating pattern that cannot be attributed to seasonality (i.e., there does not appear to be a straightforward link with the calendar), we call this a cycle.\n",
    "\n",
    "First, let's check whether our time series is *stationary*. In simple terms, this means that the statistical properties of our time series can be expected to stay constant over time. It also implies that any patterns we find can be expected to stay constant. Stationarity is important, because a number of models expect this condition to be met for the data they attempt to describe. There's a simple test you can use to quickly check for stationarity, called the *Augmented Dickey-Fuller* test. Don't worry about this too much -- just know that a significant result implies that our time series will be easier to model."
   ]
  },
  {
   "cell_type": "code",
   "execution_count": 14,
   "id": "14f2025b-f40c-4951-b710-727387b2f794",
   "metadata": {
    "tags": []
   },
   "outputs": [
    {
     "data": {
      "text/plain": [
       "'The p-value for the Augmented Dickey-Fuller test is 0.001, which implies stationarity'"
      ]
     },
     "execution_count": 14,
     "metadata": {},
     "output_type": "execute_result"
    }
   ],
   "source": [
    "from statsmodels.tsa.stattools import adfuller\n",
    "\n",
    "p_value = adfuller(df.temperature)[1]\n",
    "f\"The p-value for the Augmented Dickey-Fuller test is {round(p_value,3)}, which implies {('stationarity' if p_value < .05 else 'a lack of stationarity')}\""
   ]
  },
  {
   "cell_type": "markdown",
   "id": "221b6779-b5bd-4dc1-b930-a619ea0c30f4",
   "metadata": {},
   "source": [
    "Good! Now let's see if we can detect any patterns. Let's visualize the data again. This is an interactive plot, so feel free to zoom in and observe the patterns for yourself."
   ]
  },
  {
   "cell_type": "code",
   "execution_count": 15,
   "id": "6410c67d-776e-4092-b527-fdeaeafd6006",
   "metadata": {
    "tags": []
   },
   "outputs": [
    {
     "data": {
      "text/html": [
       "<iframe\n",
       "    scrolling=\"no\"\n",
       "    width=\"100%\"\n",
       "    height=\"545px\"\n",
       "    src=\"iframe_figures/figure_15.html\"\n",
       "    frameborder=\"0\"\n",
       "    allowfullscreen\n",
       "></iframe>\n"
      ]
     },
     "metadata": {},
     "output_type": "display_data"
    }
   ],
   "source": [
    "fig = px.line(df, x=\"date\", y=\"temperature\")\n",
    "fig.update_traces(line_color=ae_orange)\n",
    "fig.update_xaxes(tickformat=\"%b\\n%Y\")\n",
    "fig.show()"
   ]
  },
  {
   "cell_type": "markdown",
   "id": "6b2b467e-247d-42f2-a574-014ba68ff6d5",
   "metadata": {},
   "source": [
    "It's quite clear that there's a strong seasonal component, as you would expect from a variable such as temperature. We can try and isolate different components as well, using `statsmodels`' time series analysis API. Check it out!"
   ]
  },
  {
   "cell_type": "code",
   "execution_count": 16,
   "id": "728efb3b-e25a-44d4-a69b-53368f34fa5d",
   "metadata": {
    "tags": []
   },
   "outputs": [],
   "source": [
    "def decompose_signal(time_series: pd.Series, period=12):\n",
    "    # Perform seasonal decomposition\n",
    "    decomposition = sm.tsa.seasonal_decompose(df.temperature, period=period)\n",
    "\n",
    "    # Create a figure with 4 subplots\n",
    "    fig = make_subplots(rows=4, cols=1, shared_xaxes=True, vertical_spacing=0.05)\n",
    "\n",
    "    # Add the original signal component to the top subplot\n",
    "    fig.add_trace(\n",
    "        go.Scatter(x=df.index, y=df.temperature, name=\"Original\"), row=1, col=1\n",
    "    )\n",
    "\n",
    "    # Add the seasonal component\n",
    "    fig.add_trace(\n",
    "        go.Scatter(\n",
    "            x=decomposition.seasonal.index, y=decomposition.seasonal, name=\"Seasonal\"\n",
    "        ),\n",
    "        row=2,\n",
    "        col=1,\n",
    "    )\n",
    "\n",
    "    # Add the trend component\n",
    "    fig.add_trace(\n",
    "        go.Scatter(x=decomposition.trend.index, y=decomposition.trend, name=\"Trend\"),\n",
    "        row=3,\n",
    "        col=1,\n",
    "    )\n",
    "\n",
    "    # Add the residuals component\n",
    "    fig.add_trace(\n",
    "        go.Scatter(\n",
    "            x=decomposition.resid.index, y=decomposition.resid, name=\"Residuals\"\n",
    "        ),\n",
    "        row=4,\n",
    "        col=1,\n",
    "    )\n",
    "\n",
    "    # Customize the figure layout\n",
    "    fig.update_layout(\n",
    "        height=800, width=1200, title_text=\"Decomposition\", showlegend=False\n",
    "    )\n",
    "    fig.update_traces(line_color=ae_orange, row=1)\n",
    "    fig.update_xaxes(title_text=\"\")\n",
    "    fig.update_xaxes(tickformat=\"%b\\n%Y\")\n",
    "    fig.update_yaxes(title_text=\"Original\", row=1)\n",
    "    fig.update_yaxes(title_text=\"Seasonal\", row=2)\n",
    "    fig.update_yaxes(title_text=\"Trend\", row=3)\n",
    "    fig.update_yaxes(title_text=\"Residuals\", row=4)\n",
    "\n",
    "    fig.show()"
   ]
  },
  {
   "cell_type": "code",
   "execution_count": 17,
   "id": "8057e8e4-f85a-45a2-b510-e311644b92b7",
   "metadata": {
    "tags": []
   },
   "outputs": [
    {
     "data": {
      "text/html": [
       "<iframe\n",
       "    scrolling=\"no\"\n",
       "    width=\"1220px\"\n",
       "    height=\"820\"\n",
       "    src=\"iframe_figures/figure_17.html\"\n",
       "    frameborder=\"0\"\n",
       "    allowfullscreen\n",
       "></iframe>\n"
      ]
     },
     "metadata": {},
     "output_type": "display_data"
    }
   ],
   "source": [
    "df = df.set_index(df.date)\n",
    "temp = df.temperature\n",
    "decompose_signal(time_series=temp)"
   ]
  },
  {
   "cell_type": "markdown",
   "id": "f2e5b963-3811-44b3-be1a-5a27e8f9a650",
   "metadata": {},
   "source": [
    "In addition to the seasonal component, we can also better see an *upward trend*. Great! Or not so great. But about what we'd expect, right? As for the residuals, they represent what's left after subtracting trend and seasonality from the original signal. Looks like we don't have to worry about remaining cycles.\n",
    "\n",
    "We cleaned up our data frame a little bit, so let's store it so we can pick it back up in a new notebook. "
   ]
  },
  {
   "cell_type": "code",
   "execution_count": 18,
   "id": "80d590fc",
   "metadata": {
    "collapsed": false,
    "jupyter": {
     "outputs_hidden": false
    },
    "tags": []
   },
   "outputs": [],
   "source": [
    "df.to_csv(\"../../data/cleaned.csv\", index=False)"
   ]
  },
  {
   "cell_type": "markdown",
   "id": "d270544a-46a7-4c40-bd40-28024d7b570e",
   "metadata": {},
   "source": [
    "Let's move on to another topic: time series forecasting! [Let's go there now](./2_forecasting.ipynb)."
   ]
  },
  {
   "cell_type": "code",
   "execution_count": null,
   "id": "ae539e41-f0c3-469a-b7be-c20af901d54f",
   "metadata": {},
   "outputs": [],
   "source": []
  }
 ],
 "metadata": {
  "kernelspec": {
   "display_name": "arbok_env",
   "language": "python",
   "name": "arbok_env"
  },
  "language_info": {
   "codemirror_mode": {
    "name": "ipython",
    "version": 3
   },
   "file_extension": ".py",
   "mimetype": "text/x-python",
   "name": "python",
   "nbconvert_exporter": "python",
   "pygments_lexer": "ipython3",
   "version": "3.9.16"
  }
 },
 "nbformat": 4,
 "nbformat_minor": 5
}
