{
 "cells": [
  {
   "cell_type": "markdown",
   "id": "e58be1df-50c7-4068-8fd9-7670f9ea72b0",
   "metadata": {},
   "source": [
    "![](../../docs/ae_logo.png \"Adapt & Enable\")\n",
    "# AE workshop 2023 - Data science\n",
    "\n",
    "## Part 1 - Exploratory Data Analysis (EDA)"
   ]
  },
  {
   "cell_type": "markdown",
   "id": "71b9e858-8579-46e8-8336-51510732cd36",
   "metadata": {},
   "source": [
    "In this notebook, we'll talk about time series using a contemporary issue as a use case: global warming. Let's kick off by importing some packages we'll need, down the line."
   ]
  },
  {
   "cell_type": "code",
   "execution_count": 15,
   "id": "cd1e4905",
   "metadata": {
    "pycharm": {
     "is_executing": true
    },
    "tags": []
   },
   "outputs": [],
   "source": [
    "import os\n",
    "import datetime\n",
    "import numpy as np\n",
    "import pandas as pd\n",
    "import plotly.express as px\n",
    "import matplotlib.pyplot as plt\n",
    "from plotly.subplots import make_subplots\n",
    "import plotly.graph_objects as go\n",
    "from statsmodels.tsa.stattools import acf\n",
    "from statsmodels.graphics.tsaplots import plot_acf\n",
    "import statsmodels.api as sm\n",
    "\n",
    "%matplotlib inline\n",
    "import plotly.offline as py\n",
    "import plotly.io as pio\n",
    "\n",
    "pio.templates.default = \"plotly_white\"\n",
    "pio.renderers.default = \"iframe\"\n",
    "\n",
    "ae_orange = \"#FD9129\"\n",
    "ae_orange2 = \"#FFD580\"\n",
    "ae_gold = \"#FFD700\""
   ]
  },
  {
   "cell_type": "markdown",
   "id": "2f29a379",
   "metadata": {},
   "source": [
    "### Read data"
   ]
  },
  {
   "cell_type": "markdown",
   "id": "ee2eae3f",
   "metadata": {},
   "source": [
    "First of all, we have to load the on-disk data to the working memory. A great library to handle tabular data is **pandas**. The data was downloaded from https://www.kaggle.com/datasets/berkeleyearth/climate-change-earth-surface-temperature-data, feel free to explore!"
   ]
  },
  {
   "cell_type": "code",
   "execution_count": 16,
   "id": "6174f665",
   "metadata": {
    "tags": []
   },
   "outputs": [],
   "source": [
    "df = pd.read_csv(\"../../data/GlobalTemperatures.csv\")"
   ]
  },
  {
   "cell_type": "markdown",
   "id": "f6aa1c83",
   "metadata": {},
   "source": [
    "Let's check how the first rows look like:"
   ]
  },
  {
   "cell_type": "code",
   "execution_count": 17,
   "id": "915d9911",
   "metadata": {
    "tags": []
   },
   "outputs": [
    {
     "data": {
      "text/html": [
       "<div>\n",
       "<style scoped>\n",
       "    .dataframe tbody tr th:only-of-type {\n",
       "        vertical-align: middle;\n",
       "    }\n",
       "\n",
       "    .dataframe tbody tr th {\n",
       "        vertical-align: top;\n",
       "    }\n",
       "\n",
       "    .dataframe thead th {\n",
       "        text-align: right;\n",
       "    }\n",
       "</style>\n",
       "<table border=\"1\" class=\"dataframe\">\n",
       "  <thead>\n",
       "    <tr style=\"text-align: right;\">\n",
       "      <th></th>\n",
       "      <th>dt</th>\n",
       "      <th>LandAverageTemperature</th>\n",
       "      <th>LandAverageTemperatureUncertainty</th>\n",
       "      <th>LandMaxTemperature</th>\n",
       "      <th>LandMaxTemperatureUncertainty</th>\n",
       "      <th>LandMinTemperature</th>\n",
       "      <th>LandMinTemperatureUncertainty</th>\n",
       "      <th>LandAndOceanAverageTemperature</th>\n",
       "      <th>LandAndOceanAverageTemperatureUncertainty</th>\n",
       "    </tr>\n",
       "  </thead>\n",
       "  <tbody>\n",
       "    <tr>\n",
       "      <th>0</th>\n",
       "      <td>1750-01-01</td>\n",
       "      <td>3.034</td>\n",
       "      <td>3.574</td>\n",
       "      <td>NaN</td>\n",
       "      <td>NaN</td>\n",
       "      <td>NaN</td>\n",
       "      <td>NaN</td>\n",
       "      <td>NaN</td>\n",
       "      <td>NaN</td>\n",
       "    </tr>\n",
       "    <tr>\n",
       "      <th>1</th>\n",
       "      <td>1750-02-01</td>\n",
       "      <td>3.083</td>\n",
       "      <td>3.702</td>\n",
       "      <td>NaN</td>\n",
       "      <td>NaN</td>\n",
       "      <td>NaN</td>\n",
       "      <td>NaN</td>\n",
       "      <td>NaN</td>\n",
       "      <td>NaN</td>\n",
       "    </tr>\n",
       "    <tr>\n",
       "      <th>2</th>\n",
       "      <td>1750-03-01</td>\n",
       "      <td>5.626</td>\n",
       "      <td>3.076</td>\n",
       "      <td>NaN</td>\n",
       "      <td>NaN</td>\n",
       "      <td>NaN</td>\n",
       "      <td>NaN</td>\n",
       "      <td>NaN</td>\n",
       "      <td>NaN</td>\n",
       "    </tr>\n",
       "  </tbody>\n",
       "</table>\n",
       "</div>"
      ],
      "text/plain": [
       "           dt  LandAverageTemperature  LandAverageTemperatureUncertainty  \\\n",
       "0  1750-01-01                   3.034                              3.574   \n",
       "1  1750-02-01                   3.083                              3.702   \n",
       "2  1750-03-01                   5.626                              3.076   \n",
       "\n",
       "   LandMaxTemperature  LandMaxTemperatureUncertainty  LandMinTemperature  \\\n",
       "0                 NaN                            NaN                 NaN   \n",
       "1                 NaN                            NaN                 NaN   \n",
       "2                 NaN                            NaN                 NaN   \n",
       "\n",
       "   LandMinTemperatureUncertainty  LandAndOceanAverageTemperature  \\\n",
       "0                            NaN                             NaN   \n",
       "1                            NaN                             NaN   \n",
       "2                            NaN                             NaN   \n",
       "\n",
       "   LandAndOceanAverageTemperatureUncertainty  \n",
       "0                                        NaN  \n",
       "1                                        NaN  \n",
       "2                                        NaN  "
      ]
     },
     "execution_count": 17,
     "metadata": {},
     "output_type": "execute_result"
    }
   ],
   "source": [
    "df.head(3)"
   ]
  },
  {
   "cell_type": "markdown",
   "id": "23d19bfc",
   "metadata": {},
   "source": [
    "We will only use the first three columns: the date, an average temperature and an associated uncertainty measure."
   ]
  },
  {
   "cell_type": "code",
   "execution_count": 18,
   "id": "340c5864",
   "metadata": {
    "tags": []
   },
   "outputs": [
    {
     "data": {
      "text/plain": [
       "date           datetime64[ns]\n",
       "temperature           float64\n",
       "uncertainty           float64\n",
       "dtype: object"
      ]
     },
     "execution_count": 18,
     "metadata": {},
     "output_type": "execute_result"
    }
   ],
   "source": [
    "df = df[[\"dt\", \"LandAverageTemperature\", \"LandAverageTemperatureUncertainty\"]]\n",
    "\n",
    "# change the datatype of date\n",
    "df[\"dt\"] = pd.to_datetime(df[\"dt\"])\n",
    "\n",
    "# remove NaN\n",
    "df = df[~df[\"LandAverageTemperature\"].isnull()]\n",
    "\n",
    "# use shorter names because we're lazy (careful not to get confused by your own simplifications though)\n",
    "df = df.rename(\n",
    "    columns={\n",
    "        \"dt\": \"date\",\n",
    "        \"LandAverageTemperature\": \"temperature\",\n",
    "        \"LandAverageTemperatureUncertainty\": \"uncertainty\",\n",
    "    }\n",
    ")\n",
    "\n",
    "df.dtypes"
   ]
  },
  {
   "cell_type": "markdown",
   "id": "2b08554d",
   "metadata": {},
   "source": [
    "### EDA"
   ]
  },
  {
   "cell_type": "markdown",
   "id": "ab8fa898",
   "metadata": {},
   "source": [
    "The first thing to do in *any* analysis is to explore the data so we can see what we're working with. This is the **E**xplorational **D**ata **A**nalysis part.\n",
    "\n",
    "**<span style=\"color:#FD9129\">How would you do this? What sort of visuals would you try? Give it a try below.</span>**\n",
    "\n",
    "<span style=\"color:#FD9129\">* **What do you expect?**</span>\n",
    "\n",
    "<span style=\"color:#FD9129\">* **See if you spot any irregularities.**</span>\n",
    "\n",
    "<span style=\"color:#FD9129\">* **Can you spot any patterns?**</span>\n"
   ]
  },
  {
   "cell_type": "code",
   "execution_count": 19,
   "id": "b756fe7f-eb9d-478f-9c2c-51de5d2200b8",
   "metadata": {
    "tags": []
   },
   "outputs": [],
   "source": [
    "### Code goes brrr ###"
   ]
  },
  {
   "cell_type": "markdown",
   "id": "7e0e8ec7",
   "metadata": {},
   "source": [
    "### Patterns\n",
    "\n",
    "Let's look at our time series through another lens. Depending on the type of data and the range of the values, certain types of patterns can appear. In particular, we can look for the following:\n",
    "\n",
    "* <span style=\"color:darkorange\">**Trend**</span> - this is a general, monotonic increase or decrease in our data.\n",
    "* <span style=\"color:darkorange\">**Seasonality**</span> - sometimes our values fluctuate in a predictable, calender-bound manner (e.g., with seasons, month, or day of the week).\n",
    "* <span style=\"color:darkorange\">**Cyclicality**</span> - when you notice a repeating pattern that cannot be attributed to seasonality (i.e., there does not appear to be a straightforward link with the calendar), we call this a cycle.\n",
    "\n",
    "<span style=\"color:#FD9129\">**Which of these do you expect? Can you visualize the data to make a slightly more educated guess?**</span>"
   ]
  },
  {
   "cell_type": "code",
   "execution_count": 20,
   "id": "d6b85c02-be56-474f-80a2-75ef0aeebb50",
   "metadata": {
    "tags": []
   },
   "outputs": [],
   "source": [
    "### Code goes brrr ###"
   ]
  },
  {
   "cell_type": "markdown",
   "id": "d6f85a56-1ab7-499b-8f81-53586942cf34",
   "metadata": {
    "tags": []
   },
   "source": [
    "We also want to know whether our time series is *stationary*. <span style=\"color:#FD9129\">**Any idea what that means? Try and find out if it is.**</span>"
   ]
  },
  {
   "cell_type": "code",
   "execution_count": 21,
   "id": "14f2025b-f40c-4951-b710-727387b2f794",
   "metadata": {
    "tags": []
   },
   "outputs": [],
   "source": [
    "from statsmodels.tsa.stattools import adfuller\n",
    "\n",
    "### Code goes brrr ###"
   ]
  },
  {
   "cell_type": "markdown",
   "id": "6b2b467e-247d-42f2-a574-014ba68ff6d5",
   "metadata": {},
   "source": [
    "We can try and isolate different components as well, using `statsmodels`' time series analysis API. <span style=\"color:#FD9129\">**Check it out (you can use the function below)!**</span>"
   ]
  },
  {
   "cell_type": "code",
   "execution_count": 22,
   "id": "728efb3b-e25a-44d4-a69b-53368f34fa5d",
   "metadata": {
    "tags": []
   },
   "outputs": [],
   "source": [
    "def decompose_signal(time_series: pd.Series, period=12):\n",
    "    # Perform seasonal decomposition\n",
    "    decomposition = sm.tsa.seasonal_decompose(df.temperature, period=period)\n",
    "\n",
    "    # Create a figure with 4 subplots\n",
    "    fig = make_subplots(rows=4, cols=1, shared_xaxes=True, vertical_spacing=0.05)\n",
    "\n",
    "    # Add the original signal component to the top subplot\n",
    "    fig.add_trace(\n",
    "        go.Scatter(x=df.index, y=df.temperature, name=\"Original\"), row=1, col=1\n",
    "    )\n",
    "\n",
    "    # Add the seasonal component\n",
    "    fig.add_trace(\n",
    "        go.Scatter(\n",
    "            x=decomposition.seasonal.index, y=decomposition.seasonal, name=\"Seasonal\"\n",
    "        ),\n",
    "        row=2,\n",
    "        col=1,\n",
    "    )\n",
    "\n",
    "    # Add the trend component\n",
    "    fig.add_trace(\n",
    "        go.Scatter(x=decomposition.trend.index, y=decomposition.trend, name=\"Trend\"),\n",
    "        row=3,\n",
    "        col=1,\n",
    "    )\n",
    "\n",
    "    # Add the residuals component\n",
    "    fig.add_trace(\n",
    "        go.Scatter(\n",
    "            x=decomposition.resid.index, y=decomposition.resid, name=\"Residuals\"\n",
    "        ),\n",
    "        row=4,\n",
    "        col=1,\n",
    "    )\n",
    "\n",
    "    # Customize the figure layout\n",
    "    fig.update_layout(\n",
    "        height=800, width=1200, title_text=\"Decomposition\", showlegend=False\n",
    "    )\n",
    "    fig.update_traces(line_color=ae_orange, row=1)\n",
    "    fig.update_xaxes(title_text=\"\")\n",
    "    fig.update_xaxes(tickformat=\"%b\\n%Y\")\n",
    "    fig.update_yaxes(title_text=\"Original\", row=1)\n",
    "    fig.update_yaxes(title_text=\"Seasonal\", row=2)\n",
    "    fig.update_yaxes(title_text=\"Trend\", row=3)\n",
    "    fig.update_yaxes(title_text=\"Residuals\", row=4)\n",
    "\n",
    "    fig.show()"
   ]
  },
  {
   "cell_type": "code",
   "execution_count": 23,
   "id": "8057e8e4-f85a-45a2-b510-e311644b92b7",
   "metadata": {
    "tags": []
   },
   "outputs": [],
   "source": [
    "### Code goes brrr ###"
   ]
  },
  {
   "cell_type": "markdown",
   "id": "d270544a-46a7-4c40-bd40-28024d7b570e",
   "metadata": {},
   "source": [
    "Let's move on to another topic: time series forecasting! [Let's go there now](./2_forecasting_mlflow-student.ipynb)."
   ]
  },
  {
   "cell_type": "code",
   "execution_count": null,
   "id": "ae539e41-f0c3-469a-b7be-c20af901d54f",
   "metadata": {},
   "outputs": [],
   "source": []
  }
 ],
 "metadata": {
  "kernelspec": {
   "display_name": "arbok_env",
   "language": "python",
   "name": "arbok_env"
  },
  "language_info": {
   "codemirror_mode": {
    "name": "ipython",
    "version": 3
   },
   "file_extension": ".py",
   "mimetype": "text/x-python",
   "name": "python",
   "nbconvert_exporter": "python",
   "pygments_lexer": "ipython3",
   "version": "3.9.16"
  }
 },
 "nbformat": 4,
 "nbformat_minor": 5
}
